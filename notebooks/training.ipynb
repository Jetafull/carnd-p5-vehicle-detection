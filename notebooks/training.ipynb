{
 "cells": [
  {
   "cell_type": "markdown",
   "metadata": {},
   "source": [
    "# Training"
   ]
  },
  {
   "cell_type": "code",
   "execution_count": 1,
   "metadata": {},
   "outputs": [],
   "source": [
    "import numpy as np\n",
    "from pathlib import Path\n",
    "import matplotlib.pyplot as plt\n",
    "import cv2\n",
    "import time\n",
    "import pickle\n",
    "\n",
    "from sklearn.svm import LinearSVC\n",
    "from sklearn.preprocessing import StandardScaler\n",
    "from sklearn.model_selection import train_test_split\n",
    "from skimage.feature import hog\n",
    "from scipy.ndimage.measurements import label\n",
    "from collections import deque\n",
    "\n",
    "%matplotlib inline\n",
    "\n",
    "# paths\n",
    "ROOT_PATH = Path('/home/downloads/carnd-p5-vehicle-detection')"
   ]
  },
  {
   "cell_type": "markdown",
   "metadata": {},
   "source": [
    "## Utilities"
   ]
  },
  {
   "cell_type": "code",
   "execution_count": 2,
   "metadata": {},
   "outputs": [],
   "source": [
    "def read_image(img_path):\n",
    "    if img_path.endswith('.png'):\n",
    "        img = plt.imread(img_path)*255\n",
    "        img = np.clip(img, 0, 255).astype(np.uint8)\n",
    "    else:\n",
    "        img = plt.imread(img_path)\n",
    "    \n",
    "    return img\n",
    "\n",
    "def bin_spatial(img, size=(32, 32)):\n",
    "    features = cv2.resize(img, size).ravel() \n",
    "    return features\n",
    "\n",
    "def color_hist(img, nbins=32):    #bins_range=(0, 256)\n",
    "    # Compute the histogram of the color channels separately\n",
    "    channel1_hist = np.histogram(img[:,:,0], bins=nbins)\n",
    "    channel2_hist = np.histogram(img[:,:,1], bins=nbins)\n",
    "    channel3_hist = np.histogram(img[:,:,2], bins=nbins)\n",
    "    # Concatenate the histograms into a single feature vector\n",
    "    hist_features = np.concatenate((channel1_hist[0], channel2_hist[0], channel3_hist[0]))\n",
    "    # Return the individual histograms, bin_centers and feature vector\n",
    "    return hist_features\n",
    "\n",
    "def convert_color_rgb(image, cspace='RGB'):\n",
    "    if cspace != 'RGB':\n",
    "        if cspace == 'HSV':\n",
    "            cvt_image = cv2.cvtColor(image, cv2.COLOR_RGB2HSV)\n",
    "        elif cspace == 'LUV':\n",
    "            cvt_image = cv2.cvtColor(image, cv2.COLOR_RGB2LUV)\n",
    "        elif cspace == 'HLS':\n",
    "            cvt_image = cv2.cvtColor(image, cv2.COLOR_RGB2HLS)\n",
    "        elif cspace == 'YUV':\n",
    "            cvt_image = cv2.cvtColor(image, cv2.COLOR_RGB2YUV)\n",
    "        elif cspace == 'YCrCb':\n",
    "            cvt_image = cv2.cvtColor(image, cv2.COLOR_RGB2YCrCb)\n",
    "        elif cspace == 'LAB':\n",
    "            cvt_image = cv2.cvtColor(image, cv2.COLOR_RGB2LAB)\n",
    "    else:\n",
    "        cvt_image = np.copy(image)\n",
    "    \n",
    "    return cvt_image\n",
    "\n",
    "def extract_hog_features(img, orient, pix_per_cell, cell_per_block, feature_vec=True):\n",
    "    hog_features = hog(img, orientations=orient, \n",
    "                pixels_per_cell=(pix_per_cell, pix_per_cell),\n",
    "                cells_per_block=(cell_per_block, cell_per_block),\n",
    "                visualize=False, feature_vector=feature_vec, block_norm='L2-Hys')\n",
    "    return hog_features\n",
    "\n",
    "def extract_features(image, cspace='RGB', orient=9, pix_per_cell=8, \n",
    "                     spatial_size=(32, 32), hist_bins=32,\n",
    "                     cell_per_block=2, hog_channel=0, spatial_feat=True,\n",
    "                     hist_feat=True, hog_feat=True):\n",
    "    feature_image = convert_color_rgb(image, cspace)\n",
    "    \n",
    "    img_features = []\n",
    "    if spatial_feat:\n",
    "        spatial_features = bin_spatial(feature_image, size=spatial_size)\n",
    "        img_features.append(spatial_features)\n",
    "\n",
    "    if hist_feat:\n",
    "        hist_features = color_hist(feature_image, nbins=hist_bins)\n",
    "        img_features.append(hist_features)\n",
    "    \n",
    "    if hog_feat:\n",
    "        if hog_channel == 'ALL':\n",
    "            hog_features = []\n",
    "            for ch in range(feature_image.shape[2]):\n",
    "                hog_features_ch = extract_hog_features(image[:, :, ch], orient, pix_per_cell, cell_per_block, feature_vec=True)\n",
    "                hog_features.append(hog_features_ch)\n",
    "            hog_features = np.ravel(hog_features)\n",
    "\n",
    "        else:\n",
    "            hog_features = extract_hog_features(feature_image[:, :, hog_channel], orient,\n",
    "                                                pix_per_cell, cell_per_block, feature_vec=True)\n",
    "        img_features.append(hog_features)\n",
    "        \n",
    "    return np.concatenate(img_features)\n",
    "\n",
    "def add_heat(heatmap, bbox_list):\n",
    "    # Iterate through list of bboxes\n",
    "    for box in bbox_list:\n",
    "        # Add += 1 for all pixels inside each bbox\n",
    "        # Assuming each \"box\" takes the form ((x1, y1), (x2, y2))\n",
    "        heatmap[box[0][1]:box[1][1], box[0][0]:box[1][0]] += 1\n",
    "\n",
    "    # Return updated heatmap\n",
    "    return heatmap# Iterate through list of bboxes\n",
    "    \n",
    "def apply_threshold(heatmap, threshold):\n",
    "    # Zero out pixels below the threshold\n",
    "    heatmap[heatmap <= threshold] = 0\n",
    "    # Return thresholded map\n",
    "    return heatmap\n",
    "\n",
    "def draw_labeled_bboxes(img, labels):\n",
    "    # Iterate through all detected cars\n",
    "    for car_number in range(1, labels[1]+1):\n",
    "        # Find pixels with each car_number label value\n",
    "        nonzero = (labels[0] == car_number).nonzero()\n",
    "        # Identify x and y values of those pixels\n",
    "        nonzeroy = np.array(nonzero[0])\n",
    "        nonzerox = np.array(nonzero[1])\n",
    "        # Define a bounding box based on min/max x and y\n",
    "        bbox = ((np.min(nonzerox), np.min(nonzeroy)), (np.max(nonzerox), np.max(nonzeroy)))\n",
    "        # Draw the box on the image\n",
    "        cv2.rectangle(img, bbox[0], bbox[1], (0,0,255), 6)\n",
    "    # Return the image\n",
    "    return img"
   ]
  },
  {
   "cell_type": "markdown",
   "metadata": {},
   "source": [
    "## Training a classifier"
   ]
  },
  {
   "cell_type": "code",
   "execution_count": 3,
   "metadata": {},
   "outputs": [],
   "source": [
    "cspace = 'YUV' # Can be RGB, HSV, LUV, HLS, YUV, YCrCb\n",
    "orient = 10\n",
    "pix_per_cell = 16\n",
    "cell_per_block = 2\n",
    "hog_channel = 'ALL' # Can be 0, 1, 2, or \"ALL\"\n",
    "spatial_size=(16, 16)\n",
    "hist_bins = 16\n",
    "spatial_feat = True\n",
    "hist_feat = True\n",
    "hog_feat = True"
   ]
  },
  {
   "cell_type": "code",
   "execution_count": 4,
   "metadata": {},
   "outputs": [
    {
     "name": "stdout",
     "output_type": "stream",
     "text": [
      "Total car images:  6920\n",
      "Not car images:  3902\n",
      "Not car images:  5069\n"
     ]
    }
   ],
   "source": [
    "#CAR_IMAGES_PATH = ROOT_PATH/'data/vehicles/KITTI_extracted'\n",
    "CAR_IMAGES_PATH = ROOT_PATH/'data/vehicles/all'\n",
    "\n",
    "NOTCAR_IMAGES_PATH = ROOT_PATH/'data/non-vehicles/GTI'\n",
    "NOTCAR_IMAGES2_PATH = ROOT_PATH/'data/non-vehicles/Extras'\n",
    "\n",
    "print('Total car images: ', len(list(CAR_IMAGES_PATH.iterdir())))\n",
    "print('Not car images: ', len(list(NOTCAR_IMAGES_PATH.iterdir())))\n",
    "print('Not car images: ', len(list(NOTCAR_IMAGES2_PATH.iterdir())))"
   ]
  },
  {
   "cell_type": "code",
   "execution_count": 5,
   "metadata": {},
   "outputs": [
    {
     "name": "stdout",
     "output_type": "stream",
     "text": [
      "car features...\n"
     ]
    },
    {
     "data": {
      "image/png": "[encoded data removed]",
      "text/plain": [
       "<Figure size 432x288 with 1 Axes>"
      ]
     },
     "metadata": {},
     "output_type": "display_data"
    },
    {
     "name": "stdout",
     "output_type": "stream",
     "text": [
      "notcar features...\n"
     ]
    },
    {
     "data": {
      "image/png": "[encoded data removed]",
      "text/plain": [
       "<Figure size 432x288 with 1 Axes>"
      ]
     },
     "metadata": {},
     "output_type": "display_data"
    },
    {
     "name": "stdout",
     "output_type": "stream",
     "text": [
      "CPU times: user 47.5 s, sys: 704 ms, total: 48.2 s\n",
      "Wall time: 47.8 s\n"
     ]
    }
   ],
   "source": [
    "%%time\n",
    "SAMPLE_RATIO = 1\n",
    "\n",
    "car_features = []\n",
    "# car_files = (list(CAR_IMAGES_PATH.glob('*png')) + \n",
    "#              list(CAR_IMAGES2_PATH.glob('*png')) + \n",
    "#              list(CAR_IMAGES3_PATH.glob('*png')) +\n",
    "#              list(CAR_IMAGES4_PATH.glob('*png')) +\n",
    "#              list(CAR_IMAGES5_PATH.glob('*png')))\n",
    "\n",
    "print('car features...')\n",
    "car_files = list(CAR_IMAGES_PATH.glob('*png'))\n",
    "num_files = len(car_files)\n",
    "idx = np.random.choice(range(num_files), int(num_files*SAMPLE_RATIO))\n",
    "for file in np.array(car_files)[idx]:\n",
    "    img = read_image(file.as_posix())\n",
    "    features =  extract_features(img, cspace=cspace, \n",
    "                            spatial_size=spatial_size, hist_bins=hist_bins, \n",
    "                            orient=orient, pix_per_cell=pix_per_cell, \n",
    "                            cell_per_block=cell_per_block, \n",
    "                            hog_channel=hog_channel, spatial_feat=spatial_feat, \n",
    "                            hist_feat=hist_feat, hog_feat=hog_feat)\n",
    "    car_features.append(features)\n",
    "plt.imshow(img)\n",
    "plt.show()\n",
    "\n",
    "print('notcar features...')\n",
    "notcar_features = []\n",
    "noncar_files = list(NOTCAR_IMAGES_PATH.glob('*png')) + list(NOTCAR_IMAGES2_PATH.glob('*png'))\n",
    "num_files = len(noncar_files)\n",
    "idx = np.random.choice(range(num_files), int(num_files*SAMPLE_RATIO))\n",
    "for file in np.array(noncar_files)[idx]:\n",
    "    img = read_image(file.as_posix())\n",
    "    features =  extract_features(img, cspace=cspace, \n",
    "                            spatial_size=spatial_size, hist_bins=hist_bins, \n",
    "                            orient=orient, pix_per_cell=pix_per_cell, \n",
    "                            cell_per_block=cell_per_block, \n",
    "                            hog_channel=hog_channel, spatial_feat=spatial_feat, \n",
    "                            hist_feat=hist_feat, hog_feat=hog_feat)\n",
    "    notcar_features.append(features)\n",
    "plt.imshow(img)\n",
    "plt.show()"
   ]
  },
  {
   "cell_type": "code",
   "execution_count": 6,
   "metadata": {},
   "outputs": [
    {
     "name": "stdout",
     "output_type": "stream",
     "text": [
      "Shape of X:  (15888, 1896)\n"
     ]
    }
   ],
   "source": [
    "X = np.vstack((car_features, notcar_features)).astype(np.float64)\n",
    "print('Shape of X: ', X.shape)"
   ]
  },
  {
   "cell_type": "code",
   "execution_count": 7,
   "metadata": {},
   "outputs": [
    {
     "name": "stdout",
     "output_type": "stream",
     "text": [
      "Shape of y:  (15888,)\n"
     ]
    }
   ],
   "source": [
    "y = np.hstack((np.ones(len(car_features)), np.zeros(len(notcar_features))))\n",
    "print('Shape of y: ', y.shape)"
   ]
  },
  {
   "cell_type": "markdown",
   "metadata": {},
   "source": [
    "Random split"
   ]
  },
  {
   "cell_type": "code",
   "execution_count": 8,
   "metadata": {},
   "outputs": [],
   "source": [
    "rand_state = np.random.randint(0, 100)\n",
    "X_train, X_test, y_train, y_test = train_test_split(\n",
    "    X, y, test_size=0.2, random_state=rand_state)"
   ]
  },
  {
   "cell_type": "code",
   "execution_count": 9,
   "metadata": {},
   "outputs": [],
   "source": [
    "# Fit a per-column scaler\n",
    "X_scaler = StandardScaler().fit(X_train)\n",
    "X_train = X_scaler.transform(X_train)\n",
    "X_test = X_scaler.transform(X_test)"
   ]
  },
  {
   "cell_type": "markdown",
   "metadata": {},
   "source": [
    "Training"
   ]
  },
  {
   "cell_type": "code",
   "execution_count": 10,
   "metadata": {},
   "outputs": [
    {
     "name": "stdout",
     "output_type": "stream",
     "text": [
      "Using: 10 orientations 16 pixels per cell and 2 cells per block\n",
      "Feature vector length: 1896\n",
      "4.47 Seconds to train SVC...\n",
      "Test Accuracy of SVC =  0.995\n",
      "5e-05 Seconds to predict 3000 labels with SVC\n"
     ]
    }
   ],
   "source": [
    "print('Using:',orient,'orientations',pix_per_cell,\n",
    "    'pixels per cell and', cell_per_block,'cells per block')\n",
    "print('Feature vector length:', len(X_train[0]))\n",
    "# Use a linear SVC \n",
    "svc = LinearSVC(C=0.01)\n",
    "# Check the training time for the SVC\n",
    "t=time.time()\n",
    "svc.fit(X_train, y_train)\n",
    "t2 = time.time()\n",
    "print(round(t2-t, 2), 'Seconds to train SVC...')\n",
    "# Check the score of the SVC\n",
    "print('Test Accuracy of SVC = ', round(svc.score(X_test, y_test), 4))\n",
    "# Check the prediction time for a single sample\n",
    "t=time.time()\n",
    "n_predict = 3000\n",
    "#print('My SVC predicts: ', svc.predict(X_test[0:n_predict]))\n",
    "#print('For these',n_predict, 'labels: ', y_test[0:n_predict])\n",
    "t2 = time.time()\n",
    "print(round(t2-t, 5), 'Seconds to predict', n_predict,'labels with SVC')"
   ]
  },
  {
   "cell_type": "code",
   "execution_count": 11,
   "metadata": {},
   "outputs": [],
   "source": [
    "MODEL_PATH = ROOT_PATH/'models/svc.pkl'\n",
    "\n",
    "model = {\n",
    "    'svc': svc,\n",
    "    'scaler': X_scaler\n",
    "}\n",
    "\n",
    "with open(MODEL_PATH, 'wb') as f:\n",
    "    pickle.dump(model, f)"
   ]
  },
  {
   "cell_type": "code",
   "execution_count": 32,
   "metadata": {},
   "outputs": [],
   "source": [
    "model = pickle.load(open(ROOT_PATH/'models/model.pkl', 'rb'))\n",
    "\n",
    "X_scaler = model['scaler']\n",
    "svc = model['svc']"
   ]
  }
 ],
 "metadata": {
  "kernelspec": {
   "display_name": "Python 3",
   "language": "python",
   "name": "python3"
  },
  "language_info": {
   "codemirror_mode": {
    "name": "ipython",
    "version": 3
   },
   "file_extension": ".py",
   "mimetype": "text/x-python",
   "name": "python",
   "nbconvert_exporter": "python",
   "pygments_lexer": "ipython3",
   "version": "3.6.4"
  }
 },
 "nbformat": 4,
 "nbformat_minor": 2
}
